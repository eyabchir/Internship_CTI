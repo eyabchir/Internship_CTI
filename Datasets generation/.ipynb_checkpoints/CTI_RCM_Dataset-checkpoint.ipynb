{
 "cells": [
  {
   "cell_type": "code",
   "execution_count": null,
   "id": "84aa3757-50df-4bc9-b92a-06e7aaaf56d6",
   "metadata": {},
   "outputs": [],
   "source": [
    "import requests\n",
    "from bs4 import BeautifulSoup\n",
    "import time\n",
    "\n",
    "def extract_description_and_cwe(url):\n",
    "    try:\n",
    "        response = requests.get(url, timeout=10)  # Added timeout\n",
    "        response.raise_for_status()  # Raise an exception for HTTP errors\n",
    "        soup = BeautifulSoup(response.content, \"html.parser\")\n",
    "\n",
    "        # Extract description\n",
    "        description_tag = soup.find(\"p\", {\"data-testid\": \"vuln-description\"})\n",
    "        description = description_tag.text.strip() if description_tag else \"No description found\"\n",
    "\n",
    "        # Extract CWE ID\n",
    "        cwe_table = soup.find(\"table\", {\"data-testid\": \"vuln-CWEs-table\"})\n",
    "        cwe_id = cwe_table.find(\"td\").text.strip() if cwe_table else \"No CWE ID found\"\n",
    "\n",
    "        return description, cwe_id\n",
    "    except Exception as e:\n",
    "        print(f\"Error fetching data from {url}: {e}\")\n",
    "        return \"No description found\", \"No CWE ID found\"\n",
    "\n",
    "def clean_text(text):\n",
    "    \"\"\"Helper function to clean text by removing newlines, tabs, and extra spaces.\"\"\"\n",
    "    return text.replace('\\n', ' ').replace('\\t', ' ').replace('  ', ' ').strip()\n",
    "\n",
    "def save_descriptions_and_cwe_to_tsv(start, end):\n",
    "    with open('cti_rcm.tsv', 'a', encoding='utf-8') as file:\n",
    "        file.write('URL\\tDescription\\tCWE_ID\\tPrompt\\n')  # Write the header\n",
    "\n",
    "        for i in range(start, end + 1):\n",
    "            cve_id = f\"{i:04d}\"  # Format CVE ID with leading zeros\n",
    "            url = f\"https://nvd.nist.gov/vuln/detail/CVE-2024-{cve_id}\"\n",
    "            print(f\"Processing {url}...\")\n",
    "\n",
    "            description, cwe_id = extract_description_and_cwe(url)\n",
    "\n",
    "            # Clean the description\n",
    "            cleaned_description = clean_text(description)\n",
    "\n",
    "            prompt = f\"\"\"\n",
    "            You are a cybersecurity expert. Given the following vulnerability description, identify the appropriate CWE category.\n",
    "            Return only the CWE ID and name. If multiple CWE IDs apply, provide the most relevant one.\n",
    "\n",
    "            Description:\n",
    "            {cleaned_description}\n",
    "            \"\"\"\n",
    "\n",
    "            # Clean the prompt\n",
    "            cleaned_prompt = clean_text(prompt)\n",
    "\n",
    "            print(f\"Description found: {cleaned_description[:100]}...\")  # Print first 100 characters of cleaned description\n",
    "\n",
    "           \n",
    "            file.write(f\"{url}\\t{cleaned_description}\\t{cwe_id}\\t{cleaned_prompt}\\n\")\n",
    "            time.sleep(2)\n",
    "\n"
   ]
  },
  {
   "cell_type": "code",
   "execution_count": null,
   "id": "8a5b048e-149f-4f51-adea-3db52043efe6",
   "metadata": {},
   "outputs": [],
   "source": [
    "save_descriptions_and_cwe_to_tsv(20000, 23000)\n",
    "save_descriptions_and_cwe_to_tsv(30000, 33000)\n",
    "save_descriptions_and_cwe_to_tsv(34000, 35000)"
   ]
  },
  {
   "cell_type": "markdown",
   "id": "6ca29734-14a8-4b22-aab2-90577fcd0c22",
   "metadata": {},
   "source": [
    "#### cleaning dataset from missing values"
   ]
  },
  {
   "cell_type": "code",
   "execution_count": null,
   "id": "e2091915-fa51-459c-9a4b-40cdec48e2e8",
   "metadata": {},
   "outputs": [],
   "source": [
    "import csv\n",
    "\n",
    "def clean_dataset(input_file, output_file):\n",
    "    with open(input_file, 'r', encoding='utf-8', errors='ignore') as infile, open(output_file, 'w', encoding='utf-8', newline='') as outfile:\n",
    "        reader = csv.reader(infile, delimiter='\\t')\n",
    "        writer = csv.writer(outfile, delimiter='\\t')\n",
    "\n",
    "        for row in reader:\n",
    "            # Check if the second column contains \"NVD-CWE-noinfo\"\n",
    "            if row[2] != \"Not found\":\n",
    "                writer.writerow(row)\n",
    "\n",
    "clean_dataset('cti_rcm.tsv', 'cti_rcm_Eya.tsv')\n"
   ]
  },
  {
   "cell_type": "code",
   "execution_count": null,
   "id": "7331c422-a91f-4ea0-ae83-0c88635c0ffd",
   "metadata": {},
   "outputs": [],
   "source": [
    "import csv\n",
    "def clean_dataset(input_file, output_file):\n",
    "    with open(input_file, 'r', encoding='utf-8', errors='ignore') as infile, open(output_file, 'w', encoding='utf-8', newline='') as outfile:\n",
    "        reader = csv.reader(infile, delimiter='\\t')\n",
    "        writer = csv.writer(outfile, delimiter='\\t')\n",
    "\n",
    "        for row in reader:\n",
    "            # Check if the second column contains \"NVD-CWE-noinfo\"\n",
    "            if row[2] != \"NVD-CWE-Other\":\n",
    "                writer.writerow(row)\n",
    "\n",
    "clean_dataset('cti_rcm.tsv', 'cti_rcm_Eya.tsv')\n"
   ]
  },
  {
   "cell_type": "markdown",
   "id": "514ec258-c857-4239-9375-0cde68823a3f",
   "metadata": {},
   "source": [
    "#### Combining the files to get one datatset"
   ]
  },
  {
   "cell_type": "code",
   "execution_count": null,
   "id": "476299f8-66b4-4f51-8f33-69adf1826b69",
   "metadata": {},
   "outputs": [],
   "source": [
    "import csv\n",
    "\n",
    "def combine_tsv_files(file1, file2, output_file):\n",
    "    with open(output_file, 'w', encoding='utf-8', newline='') as outfile:\n",
    "        writer = csv.writer(outfile, delimiter='\\t')\n",
    "\n",
    "        # Combine file1\n",
    "        with open(file1, 'r', encoding='utf-8') as infile1:\n",
    "            reader1 = csv.reader(infile1, delimiter='\\t')\n",
    "            for row in reader1:\n",
    "                writer.writerow(row)\n",
    "\n",
    "        # Combine file2, skipping the header\n",
    "        with open(file2, 'r', encoding='utf-8') as infile2:\n",
    "            reader2 = csv.reader(infile2, delimiter='\\t')\n",
    "            next(reader2) \n",
    "            for row in reader2:\n",
    "                writer.writerow(row)\n",
    "\n",
    "# Example usage\n",
    "combine_tsv_files('cti_rcm_Eya.tsv.tsv', 'cti_rcm.tsv', 'cti_rcm_final.tsv')\n"
   ]
  }
 ],
 "metadata": {
  "kernelspec": {
   "display_name": "Python 3 (ipykernel)",
   "language": "python",
   "name": "python3"
  },
  "language_info": {
   "codemirror_mode": {
    "name": "ipython",
    "version": 3
   },
   "file_extension": ".py",
   "mimetype": "text/x-python",
   "name": "python",
   "nbconvert_exporter": "python",
   "pygments_lexer": "ipython3",
   "version": "3.12.0"
  }
 },
 "nbformat": 4,
 "nbformat_minor": 5
}
